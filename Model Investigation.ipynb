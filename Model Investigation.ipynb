{
 "cells": [
  {
   "cell_type": "markdown",
   "id": "bc9feb7a",
   "metadata": {},
   "source": [
    "# Demand Forecast Model Sensitivity Analysis: NE and SE Electrical Regions as Case Studies "
   ]
  },
  {
   "cell_type": "code",
   "execution_count": 4,
   "id": "74b0817a",
   "metadata": {},
   "outputs": [],
   "source": [
    "import pandas as pd\n",
    "import numpy as np\n",
    "import math\n",
    "import seaborn as sns\n",
    "from sklearn import linear_model"
   ]
  },
  {
   "cell_type": "markdown",
   "id": "b27d17bf",
   "metadata": {},
   "source": [
    "## North East Electrical Region"
   ]
  },
  {
   "cell_type": "code",
   "execution_count": 66,
   "id": "748de10e",
   "metadata": {},
   "outputs": [
    {
     "data": {
      "text/html": [
       "<div>\n",
       "<style scoped>\n",
       "    .dataframe tbody tr th:only-of-type {\n",
       "        vertical-align: middle;\n",
       "    }\n",
       "\n",
       "    .dataframe tbody tr th {\n",
       "        vertical-align: top;\n",
       "    }\n",
       "\n",
       "    .dataframe thead th {\n",
       "        text-align: right;\n",
       "    }\n",
       "</style>\n",
       "<table border=\"1\" class=\"dataframe\">\n",
       "  <thead>\n",
       "    <tr style=\"text-align: right;\">\n",
       "      <th></th>\n",
       "      <th>Region</th>\n",
       "      <th>Local date</th>\n",
       "      <th>Time zone</th>\n",
       "      <th>Demand Forecast</th>\n",
       "      <th>Demand</th>\n",
       "      <th>GHI</th>\n",
       "      <th>Wind Speed</th>\n",
       "      <th>Relative Humidity</th>\n",
       "      <th>Temperature</th>\n",
       "      <th>Pressure</th>\n",
       "    </tr>\n",
       "  </thead>\n",
       "  <tbody>\n",
       "    <tr>\n",
       "      <th>0</th>\n",
       "      <td>NE</td>\n",
       "      <td>2015-07-01</td>\n",
       "      <td>Eastern</td>\n",
       "      <td>367230</td>\n",
       "      <td>375496</td>\n",
       "      <td>170.583333</td>\n",
       "      <td>0.731510</td>\n",
       "      <td>97.353229</td>\n",
       "      <td>18.182292</td>\n",
       "      <td>989.296875</td>\n",
       "    </tr>\n",
       "    <tr>\n",
       "      <th>1</th>\n",
       "      <td>NE</td>\n",
       "      <td>2015-07-02</td>\n",
       "      <td>Eastern</td>\n",
       "      <td>362810</td>\n",
       "      <td>364451</td>\n",
       "      <td>298.010417</td>\n",
       "      <td>0.473177</td>\n",
       "      <td>83.525286</td>\n",
       "      <td>17.424479</td>\n",
       "      <td>990.911458</td>\n",
       "    </tr>\n",
       "    <tr>\n",
       "      <th>2</th>\n",
       "      <td>NE</td>\n",
       "      <td>2015-07-03</td>\n",
       "      <td>Eastern</td>\n",
       "      <td>316550</td>\n",
       "      <td>330178</td>\n",
       "      <td>349.164062</td>\n",
       "      <td>0.542708</td>\n",
       "      <td>75.774635</td>\n",
       "      <td>17.520833</td>\n",
       "      <td>995.520833</td>\n",
       "    </tr>\n",
       "    <tr>\n",
       "      <th>3</th>\n",
       "      <td>NE</td>\n",
       "      <td>2015-07-04</td>\n",
       "      <td>Eastern</td>\n",
       "      <td>311490</td>\n",
       "      <td>301690</td>\n",
       "      <td>170.221354</td>\n",
       "      <td>0.519792</td>\n",
       "      <td>84.102917</td>\n",
       "      <td>17.481771</td>\n",
       "      <td>996.250000</td>\n",
       "    </tr>\n",
       "    <tr>\n",
       "      <th>4</th>\n",
       "      <td>NE</td>\n",
       "      <td>2015-07-05</td>\n",
       "      <td>Eastern</td>\n",
       "      <td>321810</td>\n",
       "      <td>323679</td>\n",
       "      <td>296.351562</td>\n",
       "      <td>0.576823</td>\n",
       "      <td>83.924714</td>\n",
       "      <td>19.359375</td>\n",
       "      <td>997.343750</td>\n",
       "    </tr>\n",
       "  </tbody>\n",
       "</table>\n",
       "</div>"
      ],
      "text/plain": [
       "  Region Local date Time zone  Demand Forecast  Demand         GHI  \\\n",
       "0     NE 2015-07-01   Eastern           367230  375496  170.583333   \n",
       "1     NE 2015-07-02   Eastern           362810  364451  298.010417   \n",
       "2     NE 2015-07-03   Eastern           316550  330178  349.164062   \n",
       "3     NE 2015-07-04   Eastern           311490  301690  170.221354   \n",
       "4     NE 2015-07-05   Eastern           321810  323679  296.351562   \n",
       "\n",
       "   Wind Speed  Relative Humidity  Temperature    Pressure  \n",
       "0    0.731510          97.353229    18.182292  989.296875  \n",
       "1    0.473177          83.525286    17.424479  990.911458  \n",
       "2    0.542708          75.774635    17.520833  995.520833  \n",
       "3    0.519792          84.102917    17.481771  996.250000  \n",
       "4    0.576823          83.924714    19.359375  997.343750  "
      ]
     },
     "execution_count": 66,
     "metadata": {},
     "output_type": "execute_result"
    }
   ],
   "source": [
    "dfn = pd.read_excel('NESE Demand.xlsx', 'NE_Daily', parse_dates = ['Local date'])\n",
    "dfn.head()"
   ]
  },
  {
   "cell_type": "code",
   "execution_count": 68,
   "id": "a858c230",
   "metadata": {},
   "outputs": [],
   "source": [
    "def data_cleaner(data_frame):\n",
    "    for column in data_frame:\n",
    "        if (column == 'Demand'):\n",
    "            continue\n",
    "        elif (column == 'Local date'):\n",
    "            continue\n",
    "        else:\n",
    "            max_thresold = data_frame[column].quantile(0.95)\n",
    "            min_thresold = data_frame[column].quantile(0.05)\n",
    "            data_frame = data_frame[(data_frame[column]<max_thresold) & (data_frame[column]>min_thresold)]\n",
    "    return data_frame"
   ]
  },
  {
   "cell_type": "code",
   "execution_count": 86,
   "id": "2c09727c",
   "metadata": {},
   "outputs": [
    {
     "name": "stdout",
     "output_type": "stream",
     "text": [
      "  Local date  Demand Forecast  Demand         GHI  Wind Speed  \\\n",
      "0 2015-07-01           367230  375496  170.583333    0.731510   \n",
      "1 2015-07-02           362810  364451  298.010417    0.473177   \n",
      "2 2015-07-03           316550  330178  349.164062    0.542708   \n",
      "3 2015-07-04           311490  301690  170.221354    0.519792   \n",
      "4 2015-07-05           321810  323679  296.351562    0.576823   \n",
      "\n",
      "   Relative Humidity  Temperature    Pressure  \n",
      "0          97.353229    18.182292  989.296875  \n",
      "1          83.525286    17.424479  990.911458  \n",
      "2          75.774635    17.520833  995.520833  \n",
      "3          84.102917    17.481771  996.250000  \n",
      "4          83.924714    19.359375  997.343750  \n"
     ]
    },
    {
     "data": {
      "text/html": [
       "<div>\n",
       "<style scoped>\n",
       "    .dataframe tbody tr th:only-of-type {\n",
       "        vertical-align: middle;\n",
       "    }\n",
       "\n",
       "    .dataframe tbody tr th {\n",
       "        vertical-align: top;\n",
       "    }\n",
       "\n",
       "    .dataframe thead th {\n",
       "        text-align: right;\n",
       "    }\n",
       "</style>\n",
       "<table border=\"1\" class=\"dataframe\">\n",
       "  <thead>\n",
       "    <tr style=\"text-align: right;\">\n",
       "      <th></th>\n",
       "      <th>Demand Forecast</th>\n",
       "      <th>Demand</th>\n",
       "      <th>GHI</th>\n",
       "      <th>Wind Speed</th>\n",
       "      <th>Relative Humidity</th>\n",
       "      <th>Temperature</th>\n",
       "      <th>Pressure</th>\n",
       "    </tr>\n",
       "  </thead>\n",
       "  <tbody>\n",
       "    <tr>\n",
       "      <th>count</th>\n",
       "      <td>2009.000000</td>\n",
       "      <td>2009.000000</td>\n",
       "      <td>2009.000000</td>\n",
       "      <td>2009.000000</td>\n",
       "      <td>2009.000000</td>\n",
       "      <td>2009.000000</td>\n",
       "      <td>2009.000000</td>\n",
       "    </tr>\n",
       "    <tr>\n",
       "      <th>mean</th>\n",
       "      <td>328433.648581</td>\n",
       "      <td>332912.298656</td>\n",
       "      <td>160.903136</td>\n",
       "      <td>0.976342</td>\n",
       "      <td>82.337145</td>\n",
       "      <td>8.804022</td>\n",
       "      <td>998.877320</td>\n",
       "    </tr>\n",
       "    <tr>\n",
       "      <th>std</th>\n",
       "      <td>46984.192070</td>\n",
       "      <td>47541.844372</td>\n",
       "      <td>88.952952</td>\n",
       "      <td>0.420929</td>\n",
       "      <td>8.016374</td>\n",
       "      <td>9.878617</td>\n",
       "      <td>8.020579</td>\n",
       "    </tr>\n",
       "    <tr>\n",
       "      <th>min</th>\n",
       "      <td>219380.000000</td>\n",
       "      <td>227884.000000</td>\n",
       "      <td>8.593750</td>\n",
       "      <td>0.371354</td>\n",
       "      <td>55.211302</td>\n",
       "      <td>-18.268229</td>\n",
       "      <td>970.520833</td>\n",
       "    </tr>\n",
       "    <tr>\n",
       "      <th>25%</th>\n",
       "      <td>295300.000000</td>\n",
       "      <td>299187.000000</td>\n",
       "      <td>84.221354</td>\n",
       "      <td>0.664844</td>\n",
       "      <td>76.601536</td>\n",
       "      <td>0.687760</td>\n",
       "      <td>993.723958</td>\n",
       "    </tr>\n",
       "    <tr>\n",
       "      <th>50%</th>\n",
       "      <td>321510.000000</td>\n",
       "      <td>325672.000000</td>\n",
       "      <td>149.848958</td>\n",
       "      <td>0.872656</td>\n",
       "      <td>82.426510</td>\n",
       "      <td>8.937500</td>\n",
       "      <td>998.671875</td>\n",
       "    </tr>\n",
       "    <tr>\n",
       "      <th>75%</th>\n",
       "      <td>354330.000000</td>\n",
       "      <td>358723.000000</td>\n",
       "      <td>232.419271</td>\n",
       "      <td>1.187240</td>\n",
       "      <td>88.270026</td>\n",
       "      <td>18.014583</td>\n",
       "      <td>1004.291667</td>\n",
       "    </tr>\n",
       "    <tr>\n",
       "      <th>max</th>\n",
       "      <td>511920.000000</td>\n",
       "      <td>517594.000000</td>\n",
       "      <td>362.734375</td>\n",
       "      <td>3.277604</td>\n",
       "      <td>99.684036</td>\n",
       "      <td>26.368750</td>\n",
       "      <td>1023.424479</td>\n",
       "    </tr>\n",
       "  </tbody>\n",
       "</table>\n",
       "</div>"
      ],
      "text/plain": [
       "       Demand Forecast         Demand          GHI   Wind Speed  \\\n",
       "count      2009.000000    2009.000000  2009.000000  2009.000000   \n",
       "mean     328433.648581  332912.298656   160.903136     0.976342   \n",
       "std       46984.192070   47541.844372    88.952952     0.420929   \n",
       "min      219380.000000  227884.000000     8.593750     0.371354   \n",
       "25%      295300.000000  299187.000000    84.221354     0.664844   \n",
       "50%      321510.000000  325672.000000   149.848958     0.872656   \n",
       "75%      354330.000000  358723.000000   232.419271     1.187240   \n",
       "max      511920.000000  517594.000000   362.734375     3.277604   \n",
       "\n",
       "       Relative Humidity  Temperature     Pressure  \n",
       "count        2009.000000  2009.000000  2009.000000  \n",
       "mean           82.337145     8.804022   998.877320  \n",
       "std             8.016374     9.878617     8.020579  \n",
       "min            55.211302   -18.268229   970.520833  \n",
       "25%            76.601536     0.687760   993.723958  \n",
       "50%            82.426510     8.937500   998.671875  \n",
       "75%            88.270026    18.014583  1004.291667  \n",
       "max            99.684036    26.368750  1023.424479  "
      ]
     },
     "execution_count": 86,
     "metadata": {},
     "output_type": "execute_result"
    }
   ],
   "source": [
    "dfnee = dfn.drop(columns = ['Region','Time zone'], axis = 1)\n",
    "print(dfnee.head())\n",
    "dfnee.describe()"
   ]
  },
  {
   "cell_type": "code",
   "execution_count": 69,
   "id": "ea508578",
   "metadata": {},
   "outputs": [
    {
     "data": {
      "text/plain": [
       "(2009, 8)"
      ]
     },
     "execution_count": 69,
     "metadata": {},
     "output_type": "execute_result"
    }
   ],
   "source": [
    "#dfne = data_cleaner(dfnee)\n",
    "dfne = dfnee\n",
    "dfne.shape"
   ]
  },
  {
   "cell_type": "code",
   "execution_count": 70,
   "id": "e7b25f3b",
   "metadata": {},
   "outputs": [
    {
     "data": {
      "text/plain": [
       "Local date           False\n",
       "Demand Forecast      False\n",
       "Demand               False\n",
       "GHI                  False\n",
       "Wind Speed           False\n",
       "Relative Humidity    False\n",
       "Temperature          False\n",
       "Pressure             False\n",
       "dtype: bool"
      ]
     },
     "execution_count": 70,
     "metadata": {},
     "output_type": "execute_result"
    }
   ],
   "source": [
    "dfne.isnull().any()"
   ]
  },
  {
   "cell_type": "code",
   "execution_count": null,
   "id": "1bf4bc7e",
   "metadata": {},
   "outputs": [],
   "source": [
    "sns.pairplot(dfne, kind = 'scatter', diag_kind = 'kde')"
   ]
  },
  {
   "cell_type": "code",
   "execution_count": 72,
   "id": "f1062c01",
   "metadata": {
    "scrolled": true
   },
   "outputs": [],
   "source": [
    "def season_extractor(dataframe, start_month:int, start_day:int, end_month:int, end_day:int):\n",
    "    dff = dataframe[dataframe['Local date'].apply(lambda x: x.month>=start_month and x.month<=end_month)]\n",
    "    dff = dff[dff['Local date'].apply(lambda x: x.day>=start_day if x.month==start_month else True)]\n",
    "    dff = dff[dff['Local date'].apply(lambda x: x.day<=end_day if x.month==end_month else True)]\n",
    "    return dff"
   ]
  },
  {
   "cell_type": "markdown",
   "id": "2241e199",
   "metadata": {},
   "source": [
    "### Model Selection"
   ]
  },
  {
   "cell_type": "code",
   "execution_count": 77,
   "id": "e192e799",
   "metadata": {},
   "outputs": [],
   "source": [
    "def train_model(variable, target, model):\n",
    "    from sklearn.model_selection import train_test_split\n",
    "    X_train, X_test, y_train, y_test = train_test_split(variable, target, test_size = 0.3, random_state=0)\n",
    "    model.fit(X_train, y_train)\n",
    "    return model.score(X_test, y_test)"
   ]
  },
  {
   "cell_type": "code",
   "execution_count": 87,
   "id": "4621a73e",
   "metadata": {},
   "outputs": [
    {
     "data": {
      "text/plain": [
       "((2009, 5), (2009,))"
      ]
     },
     "execution_count": 87,
     "metadata": {},
     "output_type": "execute_result"
    }
   ],
   "source": [
    "X = dfne.drop(['Demand', 'Demand Forecast', 'Local date'], axis = 1)\n",
    "y = dfne['Demand']\n",
    "X.shape, y.shape"
   ]
  },
  {
   "cell_type": "code",
   "execution_count": 108,
   "id": "bcf4dcff",
   "metadata": {},
   "outputs": [
    {
     "data": {
      "text/plain": [
       "0.0625481722746336"
      ]
     },
     "execution_count": 108,
     "metadata": {},
     "output_type": "execute_result"
    }
   ],
   "source": [
    "from sklearn.linear_model import LinearRegression\n",
    "model_lr = LinearRegression()\n",
    "train_model(X,y,model_lr)"
   ]
  },
  {
   "cell_type": "code",
   "execution_count": 109,
   "id": "9b6f3e69",
   "metadata": {},
   "outputs": [
    {
     "data": {
      "text/plain": [
       "0.0622511071327857"
      ]
     },
     "execution_count": 109,
     "metadata": {},
     "output_type": "execute_result"
    }
   ],
   "source": [
    "from sklearn.linear_model import Ridge\n",
    "ridge_reg= Ridge(alpha=50, max_iter=100, tol=0.1)\n",
    "train_model(X,y,ridge_reg)"
   ]
  },
  {
   "cell_type": "code",
   "execution_count": 110,
   "id": "cae86ad2",
   "metadata": {},
   "outputs": [
    {
     "data": {
      "text/plain": [
       "0.06228146637407317"
      ]
     },
     "execution_count": 110,
     "metadata": {},
     "output_type": "execute_result"
    }
   ],
   "source": [
    "from sklearn.linear_model import Lasso\n",
    "lasso_reg= Lasso(alpha=50, max_iter=100, tol=0.1)\n",
    "train_model(X,y,lasso_reg)"
   ]
  },
  {
   "cell_type": "code",
   "execution_count": 111,
   "id": "2bee2c88",
   "metadata": {},
   "outputs": [],
   "source": [
    "from sklearn.model_selection import cross_val_score\n",
    "def get_scores(variables, target):\n",
    "    scores = cross_val_score(ridge_reg, variables, target, cv = 5)\n",
    "    return np.max(scores)"
   ]
  },
  {
   "cell_type": "markdown",
   "id": "8496a487",
   "metadata": {},
   "source": [
    "### NE - Summer Calculations"
   ]
  },
  {
   "cell_type": "code",
   "execution_count": 112,
   "id": "0bebff56",
   "metadata": {},
   "outputs": [
    {
     "name": "stdout",
     "output_type": "stream",
     "text": [
      "(554, 8)\n"
     ]
    },
    {
     "data": {
      "text/html": [
       "<div>\n",
       "<style scoped>\n",
       "    .dataframe tbody tr th:only-of-type {\n",
       "        vertical-align: middle;\n",
       "    }\n",
       "\n",
       "    .dataframe tbody tr th {\n",
       "        vertical-align: top;\n",
       "    }\n",
       "\n",
       "    .dataframe thead th {\n",
       "        text-align: right;\n",
       "    }\n",
       "</style>\n",
       "<table border=\"1\" class=\"dataframe\">\n",
       "  <thead>\n",
       "    <tr style=\"text-align: right;\">\n",
       "      <th></th>\n",
       "      <th>GHI</th>\n",
       "      <th>Wind Speed</th>\n",
       "      <th>Relative Humidity</th>\n",
       "      <th>Temperature</th>\n",
       "      <th>Pressure</th>\n",
       "    </tr>\n",
       "  </thead>\n",
       "  <tbody>\n",
       "    <tr>\n",
       "      <th>0</th>\n",
       "      <td>170.583333</td>\n",
       "      <td>0.731510</td>\n",
       "      <td>97.353229</td>\n",
       "      <td>18.182292</td>\n",
       "      <td>989.296875</td>\n",
       "    </tr>\n",
       "    <tr>\n",
       "      <th>1</th>\n",
       "      <td>298.010417</td>\n",
       "      <td>0.473177</td>\n",
       "      <td>83.525286</td>\n",
       "      <td>17.424479</td>\n",
       "      <td>990.911458</td>\n",
       "    </tr>\n",
       "    <tr>\n",
       "      <th>2</th>\n",
       "      <td>349.164062</td>\n",
       "      <td>0.542708</td>\n",
       "      <td>75.774635</td>\n",
       "      <td>17.520833</td>\n",
       "      <td>995.520833</td>\n",
       "    </tr>\n",
       "    <tr>\n",
       "      <th>3</th>\n",
       "      <td>170.221354</td>\n",
       "      <td>0.519792</td>\n",
       "      <td>84.102917</td>\n",
       "      <td>17.481771</td>\n",
       "      <td>996.250000</td>\n",
       "    </tr>\n",
       "    <tr>\n",
       "      <th>4</th>\n",
       "      <td>296.351562</td>\n",
       "      <td>0.576823</td>\n",
       "      <td>83.924714</td>\n",
       "      <td>19.359375</td>\n",
       "      <td>997.343750</td>\n",
       "    </tr>\n",
       "  </tbody>\n",
       "</table>\n",
       "</div>"
      ],
      "text/plain": [
       "          GHI  Wind Speed  Relative Humidity  Temperature    Pressure\n",
       "0  170.583333    0.731510          97.353229    18.182292  989.296875\n",
       "1  298.010417    0.473177          83.525286    17.424479  990.911458\n",
       "2  349.164062    0.542708          75.774635    17.520833  995.520833\n",
       "3  170.221354    0.519792          84.102917    17.481771  996.250000\n",
       "4  296.351562    0.576823          83.924714    19.359375  997.343750"
      ]
     },
     "execution_count": 112,
     "metadata": {},
     "output_type": "execute_result"
    }
   ],
   "source": [
    "df_summer = season_extractor(dfne, 6, 21, 9, 22)\n",
    "print(df_summer.shape)\n",
    "summer_variables = df_summer.drop(['Local date','Demand Forecast','Demand'], axis = 'columns')\n",
    "summer_target = df_summer['Demand']\n",
    "summer_variables.head()"
   ]
  },
  {
   "cell_type": "code",
   "execution_count": null,
   "id": "be8e0fe6",
   "metadata": {},
   "outputs": [],
   "source": [
    "%matplotlib inline\n",
    "sns.pairplot(df_summer.drop('Local date', axis = 1))"
   ]
  },
  {
   "cell_type": "code",
   "execution_count": 114,
   "id": "8379b1ee",
   "metadata": {},
   "outputs": [
    {
     "data": {
      "text/plain": [
       "0.8143397227218738"
      ]
     },
     "execution_count": 114,
     "metadata": {},
     "output_type": "execute_result"
    }
   ],
   "source": [
    "summer_scores = get_scores(summer_variables, summer_target)\n",
    "summer_scores"
   ]
  },
  {
   "cell_type": "code",
   "execution_count": 115,
   "id": "1c23f3e6",
   "metadata": {},
   "outputs": [],
   "source": [
    "def wind_temp_calculator(variables, target):\n",
    "    variables_wt = variables.drop(columns = ['GHI','Relative Humidity','Pressure'])\n",
    "    scores_wt = get_scores(variables_wt, target)\n",
    "    return scores_wt    "
   ]
  },
  {
   "cell_type": "code",
   "execution_count": 116,
   "id": "301c3d04",
   "metadata": {},
   "outputs": [
    {
     "data": {
      "text/plain": [
       "0.8178716836191996"
      ]
     },
     "execution_count": 116,
     "metadata": {},
     "output_type": "execute_result"
    }
   ],
   "source": [
    "wind_temp_calculator(summer_variables, summer_target)"
   ]
  },
  {
   "cell_type": "code",
   "execution_count": 117,
   "id": "6da0e331",
   "metadata": {},
   "outputs": [],
   "source": [
    "def temp_calculator(variables, target):\n",
    "    variables_t = variables.drop(columns = ['GHI','Relative Humidity','Pressure','Wind Speed'])\n",
    "    scores_t = get_scores(variables_t, target)\n",
    "    return scores_t"
   ]
  },
  {
   "cell_type": "code",
   "execution_count": 118,
   "id": "279aef59",
   "metadata": {},
   "outputs": [
    {
     "data": {
      "text/plain": [
       "0.8195658497630626"
      ]
     },
     "execution_count": 118,
     "metadata": {},
     "output_type": "execute_result"
    }
   ],
   "source": [
    "temp_calculator(summer_variables, summer_target)"
   ]
  },
  {
   "cell_type": "code",
   "execution_count": 119,
   "id": "8e6ecf6e",
   "metadata": {},
   "outputs": [],
   "source": [
    "def no_temp_calculator(variables, target): \n",
    "    variables_nt = variables.drop(columns=['Temperature'])\n",
    "    scores_nt = get_scores(variables_nt, target)\n",
    "    return scores_nt"
   ]
  },
  {
   "cell_type": "code",
   "execution_count": 120,
   "id": "82ac9342",
   "metadata": {},
   "outputs": [
    {
     "data": {
      "text/plain": [
       "0.4049745331573664"
      ]
     },
     "execution_count": 120,
     "metadata": {},
     "output_type": "execute_result"
    }
   ],
   "source": [
    "no_temp_calculator(summer_variables, summer_target)"
   ]
  },
  {
   "cell_type": "markdown",
   "id": "6e1e054f",
   "metadata": {},
   "source": [
    "### NE - Winter Calculations"
   ]
  },
  {
   "cell_type": "code",
   "execution_count": null,
   "id": "fa459f5b",
   "metadata": {},
   "outputs": [],
   "source": [
    "dfff = dfne[dfne['Local date'].apply(lambda x: x.month==1 or x.month==2 or x.month==3 or x.month==12)]\n",
    "dfff = dfff[dfff['Local date'].apply(lambda x: x.day<=21 if x.month==3 else True)]\n",
    "dfff = dfff[dfff['Local date'].apply(lambda x: x.day>=21 if x.month==12 else True)]\n",
    "df_winter = dfff\n",
    "winter_variables = df_winter.drop(['Local date','Demand Forecast','Demand'], axis = 1)\n",
    "winter_target = df_winter['Demand']\n",
    "%matplotlib inline\n",
    "sns.pairplot(df_winter.drop('Local date', axis = 1))"
   ]
  },
  {
   "cell_type": "code",
   "execution_count": 122,
   "id": "8f312706",
   "metadata": {},
   "outputs": [
    {
     "data": {
      "text/plain": [
       "0.6748279574884495"
      ]
     },
     "execution_count": 122,
     "metadata": {},
     "output_type": "execute_result"
    }
   ],
   "source": [
    "train_model(winter_variables, winter_target, model_lr)"
   ]
  },
  {
   "cell_type": "code",
   "execution_count": 123,
   "id": "363ae2ed",
   "metadata": {},
   "outputs": [
    {
     "data": {
      "text/plain": [
       "0.7481704006239691"
      ]
     },
     "execution_count": 123,
     "metadata": {},
     "output_type": "execute_result"
    }
   ],
   "source": [
    "winter_scores = get_scores(winter_variables, winter_target)\n",
    "winter_scores"
   ]
  },
  {
   "cell_type": "code",
   "execution_count": 124,
   "id": "c0167822",
   "metadata": {},
   "outputs": [
    {
     "data": {
      "text/plain": [
       "0.6118715987591691"
      ]
     },
     "execution_count": 124,
     "metadata": {},
     "output_type": "execute_result"
    }
   ],
   "source": [
    "wind_temp_calculator(winter_variables, winter_target)"
   ]
  },
  {
   "cell_type": "code",
   "execution_count": 125,
   "id": "e847f883",
   "metadata": {},
   "outputs": [
    {
     "data": {
      "text/plain": [
       "0.6119662463552029"
      ]
     },
     "execution_count": 125,
     "metadata": {},
     "output_type": "execute_result"
    }
   ],
   "source": [
    "temp_calculator(winter_variables, winter_target)"
   ]
  },
  {
   "cell_type": "code",
   "execution_count": 126,
   "id": "b4d0fd11",
   "metadata": {},
   "outputs": [
    {
     "data": {
      "text/plain": [
       "0.38959466691065936"
      ]
     },
     "execution_count": 126,
     "metadata": {},
     "output_type": "execute_result"
    }
   ],
   "source": [
    "no_temp_calculator(winter_variables, winter_target)"
   ]
  },
  {
   "cell_type": "markdown",
   "id": "e3824cbd",
   "metadata": {},
   "source": [
    "### NE Spring Calculations"
   ]
  },
  {
   "cell_type": "code",
   "execution_count": 127,
   "id": "8ff2dbc4",
   "metadata": {},
   "outputs": [
    {
     "data": {
      "text/plain": [
       "(470, 8)"
      ]
     },
     "execution_count": 127,
     "metadata": {},
     "output_type": "execute_result"
    }
   ],
   "source": [
    "df_spring = season_extractor(dfne, 3, 20, 6, 21)\n",
    "df_spring.shape"
   ]
  },
  {
   "cell_type": "code",
   "execution_count": null,
   "id": "a8c6373b",
   "metadata": {},
   "outputs": [],
   "source": [
    "sns.pairplot(df_spring)"
   ]
  },
  {
   "cell_type": "code",
   "execution_count": 128,
   "id": "1a7a1516",
   "metadata": {},
   "outputs": [
    {
     "name": "stdout",
     "output_type": "stream",
     "text": [
      "262    305109\n",
      "263    336706\n",
      "264    327791\n",
      "265    319884\n",
      "266    324912\n",
      "Name: Demand, dtype: int64\n"
     ]
    },
    {
     "data": {
      "text/plain": [
       "(470, 5)"
      ]
     },
     "execution_count": 128,
     "metadata": {},
     "output_type": "execute_result"
    }
   ],
   "source": [
    "spring_variables = df_spring.drop(['Local date','Demand Forecast','Demand'], axis = 'columns')\n",
    "spring_target = df_spring['Demand']\n",
    "print(spring_target.head())\n",
    "spring_variables.shape"
   ]
  },
  {
   "cell_type": "code",
   "execution_count": 129,
   "id": "222bd21a",
   "metadata": {},
   "outputs": [
    {
     "data": {
      "text/plain": [
       "0.09058561460404357"
      ]
     },
     "execution_count": 129,
     "metadata": {},
     "output_type": "execute_result"
    }
   ],
   "source": [
    "train_model(spring_variables, spring_target, model_lr)"
   ]
  },
  {
   "cell_type": "code",
   "execution_count": 130,
   "id": "932836ae",
   "metadata": {},
   "outputs": [
    {
     "data": {
      "text/plain": [
       "0.04706603657019803"
      ]
     },
     "execution_count": 130,
     "metadata": {},
     "output_type": "execute_result"
    }
   ],
   "source": [
    "spring_scores = get_scores(spring_variables, spring_target)\n",
    "spring_scores"
   ]
  },
  {
   "cell_type": "code",
   "execution_count": 131,
   "id": "da6e8ef3",
   "metadata": {},
   "outputs": [
    {
     "data": {
      "text/plain": [
       "-0.06104974574779143"
      ]
     },
     "execution_count": 131,
     "metadata": {},
     "output_type": "execute_result"
    }
   ],
   "source": [
    "wind_temp_calculator(spring_variables, spring_target)"
   ]
  },
  {
   "cell_type": "code",
   "execution_count": 132,
   "id": "39d21b2b",
   "metadata": {},
   "outputs": [
    {
     "data": {
      "text/plain": [
       "-0.09185561245062468"
      ]
     },
     "execution_count": 132,
     "metadata": {},
     "output_type": "execute_result"
    }
   ],
   "source": [
    "temp_calculator(spring_variables, spring_target)"
   ]
  },
  {
   "cell_type": "code",
   "execution_count": 133,
   "id": "caeaf4a6",
   "metadata": {},
   "outputs": [
    {
     "data": {
      "text/plain": [
       "0.04390241427829966"
      ]
     },
     "execution_count": 133,
     "metadata": {},
     "output_type": "execute_result"
    }
   ],
   "source": [
    "no_temp_calculator(spring_variables, spring_target)"
   ]
  },
  {
   "cell_type": "markdown",
   "id": "b3c8c92b",
   "metadata": {},
   "source": [
    "### NE Fall Calculations"
   ]
  },
  {
   "cell_type": "code",
   "execution_count": 134,
   "id": "e7308586",
   "metadata": {},
   "outputs": [
    {
     "data": {
      "text/plain": [
       "(546, 8)"
      ]
     },
     "execution_count": 134,
     "metadata": {},
     "output_type": "execute_result"
    }
   ],
   "source": [
    "df_fall = season_extractor(dfne, 9, 22, 12, 21)\n",
    "df_fall.shape"
   ]
  },
  {
   "cell_type": "code",
   "execution_count": null,
   "id": "894b6d8e",
   "metadata": {},
   "outputs": [],
   "source": [
    "sns.pairplot(df_fall)"
   ]
  },
  {
   "cell_type": "code",
   "execution_count": null,
   "id": "4c582d73",
   "metadata": {},
   "outputs": [],
   "source": [
    "fall_variables = df_fall.drop(['Local date','Demand Forecast','Demand'], axis = 'columns')\n",
    "fall_target = df_fall['Demand']\n",
    "print(fall_target.head())\n",
    "fall_variables.head()"
   ]
  },
  {
   "cell_type": "code",
   "execution_count": 136,
   "id": "69abd252",
   "metadata": {},
   "outputs": [
    {
     "data": {
      "text/plain": [
       "0.31278226208035564"
      ]
     },
     "execution_count": 136,
     "metadata": {},
     "output_type": "execute_result"
    }
   ],
   "source": [
    "train_model(fall_variables, fall_target, model_lr)"
   ]
  },
  {
   "cell_type": "code",
   "execution_count": 137,
   "id": "d51c23c6",
   "metadata": {},
   "outputs": [
    {
     "data": {
      "text/plain": [
       "0.500219463001923"
      ]
     },
     "execution_count": 137,
     "metadata": {},
     "output_type": "execute_result"
    }
   ],
   "source": [
    "fall_scores = get_scores(fall_variables, fall_target)\n",
    "fall_scores"
   ]
  },
  {
   "cell_type": "code",
   "execution_count": 138,
   "id": "b333c57b",
   "metadata": {},
   "outputs": [
    {
     "data": {
      "text/plain": [
       "0.4083948862049005"
      ]
     },
     "execution_count": 138,
     "metadata": {},
     "output_type": "execute_result"
    }
   ],
   "source": [
    "wind_temp_calculator(fall_variables, fall_target)"
   ]
  },
  {
   "cell_type": "code",
   "execution_count": 139,
   "id": "44a36a18",
   "metadata": {},
   "outputs": [
    {
     "data": {
      "text/plain": [
       "0.41064244040714637"
      ]
     },
     "execution_count": 139,
     "metadata": {},
     "output_type": "execute_result"
    }
   ],
   "source": [
    "temp_calculator(fall_variables, fall_target)"
   ]
  },
  {
   "cell_type": "code",
   "execution_count": 140,
   "id": "a9a949ec",
   "metadata": {},
   "outputs": [
    {
     "data": {
      "text/plain": [
       "0.17547069630208978"
      ]
     },
     "execution_count": 140,
     "metadata": {},
     "output_type": "execute_result"
    }
   ],
   "source": [
    "no_temp_calculator(fall_variables, fall_target)"
   ]
  },
  {
   "cell_type": "markdown",
   "id": "e1878118",
   "metadata": {},
   "source": [
    "## South East Electrical Region"
   ]
  },
  {
   "cell_type": "code",
   "execution_count": 141,
   "id": "2cf8eaaf",
   "metadata": {
    "scrolled": false
   },
   "outputs": [
    {
     "name": "stdout",
     "output_type": "stream",
     "text": [
      "(2009, 10)\n"
     ]
    },
    {
     "data": {
      "text/html": [
       "<div>\n",
       "<style scoped>\n",
       "    .dataframe tbody tr th:only-of-type {\n",
       "        vertical-align: middle;\n",
       "    }\n",
       "\n",
       "    .dataframe tbody tr th {\n",
       "        vertical-align: top;\n",
       "    }\n",
       "\n",
       "    .dataframe thead th {\n",
       "        text-align: right;\n",
       "    }\n",
       "</style>\n",
       "<table border=\"1\" class=\"dataframe\">\n",
       "  <thead>\n",
       "    <tr style=\"text-align: right;\">\n",
       "      <th></th>\n",
       "      <th>Region</th>\n",
       "      <th>Local date</th>\n",
       "      <th>Time zone</th>\n",
       "      <th>DF</th>\n",
       "      <th>D</th>\n",
       "      <th>GHI</th>\n",
       "      <th>Wind Speed</th>\n",
       "      <th>Relative Humidity</th>\n",
       "      <th>Temperature</th>\n",
       "      <th>Pressure</th>\n",
       "    </tr>\n",
       "  </thead>\n",
       "  <tbody>\n",
       "    <tr>\n",
       "      <th>0</th>\n",
       "      <td>SE</td>\n",
       "      <td>2015-07-01</td>\n",
       "      <td>Central</td>\n",
       "      <td>765886.0</td>\n",
       "      <td>723871</td>\n",
       "      <td>272.243056</td>\n",
       "      <td>1.179167</td>\n",
       "      <td>85.007604</td>\n",
       "      <td>25.416667</td>\n",
       "      <td>998.020833</td>\n",
       "    </tr>\n",
       "    <tr>\n",
       "      <th>1</th>\n",
       "      <td>SE</td>\n",
       "      <td>2015-07-02</td>\n",
       "      <td>Central</td>\n",
       "      <td>748062.0</td>\n",
       "      <td>730320</td>\n",
       "      <td>219.875000</td>\n",
       "      <td>1.163194</td>\n",
       "      <td>89.075903</td>\n",
       "      <td>24.861111</td>\n",
       "      <td>996.805556</td>\n",
       "    </tr>\n",
       "    <tr>\n",
       "      <th>2</th>\n",
       "      <td>SE</td>\n",
       "      <td>2015-07-03</td>\n",
       "      <td>Central</td>\n",
       "      <td>716503.0</td>\n",
       "      <td>700726</td>\n",
       "      <td>235.541667</td>\n",
       "      <td>1.104514</td>\n",
       "      <td>87.619514</td>\n",
       "      <td>25.034722</td>\n",
       "      <td>996.562500</td>\n",
       "    </tr>\n",
       "    <tr>\n",
       "      <th>3</th>\n",
       "      <td>SE</td>\n",
       "      <td>2015-07-04</td>\n",
       "      <td>Central</td>\n",
       "      <td>691767.0</td>\n",
       "      <td>630155</td>\n",
       "      <td>232.593750</td>\n",
       "      <td>0.942361</td>\n",
       "      <td>92.207431</td>\n",
       "      <td>24.329861</td>\n",
       "      <td>998.472222</td>\n",
       "    </tr>\n",
       "    <tr>\n",
       "      <th>4</th>\n",
       "      <td>SE</td>\n",
       "      <td>2015-07-05</td>\n",
       "      <td>Central</td>\n",
       "      <td>671266.0</td>\n",
       "      <td>613549</td>\n",
       "      <td>188.934028</td>\n",
       "      <td>0.695833</td>\n",
       "      <td>90.758611</td>\n",
       "      <td>23.732639</td>\n",
       "      <td>999.791667</td>\n",
       "    </tr>\n",
       "  </tbody>\n",
       "</table>\n",
       "</div>"
      ],
      "text/plain": [
       "  Region Local date Time zone        DF       D         GHI  Wind Speed  \\\n",
       "0     SE 2015-07-01   Central  765886.0  723871  272.243056    1.179167   \n",
       "1     SE 2015-07-02   Central  748062.0  730320  219.875000    1.163194   \n",
       "2     SE 2015-07-03   Central  716503.0  700726  235.541667    1.104514   \n",
       "3     SE 2015-07-04   Central  691767.0  630155  232.593750    0.942361   \n",
       "4     SE 2015-07-05   Central  671266.0  613549  188.934028    0.695833   \n",
       "\n",
       "   Relative Humidity  Temperature    Pressure  \n",
       "0          85.007604    25.416667  998.020833  \n",
       "1          89.075903    24.861111  996.805556  \n",
       "2          87.619514    25.034722  996.562500  \n",
       "3          92.207431    24.329861  998.472222  \n",
       "4          90.758611    23.732639  999.791667  "
      ]
     },
     "execution_count": 141,
     "metadata": {},
     "output_type": "execute_result"
    }
   ],
   "source": [
    "dfs = pd.read_excel('NESE Demand.xlsx', 'SE_Daily', parse_dates = ['Local date'])\n",
    "print(dfs.shape)\n",
    "dfs.head()"
   ]
  },
  {
   "cell_type": "code",
   "execution_count": 142,
   "id": "514ef3e9",
   "metadata": {},
   "outputs": [],
   "source": [
    "dfsee = dfs.drop(columns = ['Region','Time zone'], axis = 1)\n",
    "#sns.pairplot(dfsee)"
   ]
  },
  {
   "cell_type": "code",
   "execution_count": 143,
   "id": "d713b38a",
   "metadata": {},
   "outputs": [
    {
     "data": {
      "text/plain": [
       "(2009, 8)"
      ]
     },
     "execution_count": 143,
     "metadata": {},
     "output_type": "execute_result"
    }
   ],
   "source": [
    "#dfse = data_cleaner(dfsee)\n",
    "dfse = dfsee\n",
    "dfse.shape"
   ]
  },
  {
   "cell_type": "code",
   "execution_count": 48,
   "id": "94b68609",
   "metadata": {},
   "outputs": [
    {
     "data": {
      "text/html": [
       "<div>\n",
       "<style scoped>\n",
       "    .dataframe tbody tr th:only-of-type {\n",
       "        vertical-align: middle;\n",
       "    }\n",
       "\n",
       "    .dataframe tbody tr th {\n",
       "        vertical-align: top;\n",
       "    }\n",
       "\n",
       "    .dataframe thead th {\n",
       "        text-align: right;\n",
       "    }\n",
       "</style>\n",
       "<table border=\"1\" class=\"dataframe\">\n",
       "  <thead>\n",
       "    <tr style=\"text-align: right;\">\n",
       "      <th></th>\n",
       "      <th>DF</th>\n",
       "      <th>D</th>\n",
       "      <th>GHI</th>\n",
       "      <th>Wind Speed</th>\n",
       "      <th>Relative Humidity</th>\n",
       "      <th>Temperature</th>\n",
       "      <th>Pressure</th>\n",
       "    </tr>\n",
       "  </thead>\n",
       "  <tbody>\n",
       "    <tr>\n",
       "      <th>count</th>\n",
       "      <td>48.000000</td>\n",
       "      <td>49.000000</td>\n",
       "      <td>49.000000</td>\n",
       "      <td>49.000000</td>\n",
       "      <td>49.000000</td>\n",
       "      <td>49.000000</td>\n",
       "      <td>49.000000</td>\n",
       "    </tr>\n",
       "    <tr>\n",
       "      <th>mean</th>\n",
       "      <td>24638.145833</td>\n",
       "      <td>12751.693878</td>\n",
       "      <td>212.105300</td>\n",
       "      <td>0.926481</td>\n",
       "      <td>77.130249</td>\n",
       "      <td>21.705577</td>\n",
       "      <td>997.850907</td>\n",
       "    </tr>\n",
       "    <tr>\n",
       "      <th>std</th>\n",
       "      <td>5268.892394</td>\n",
       "      <td>2499.488691</td>\n",
       "      <td>66.021353</td>\n",
       "      <td>0.285820</td>\n",
       "      <td>9.331572</td>\n",
       "      <td>6.060427</td>\n",
       "      <td>3.911272</td>\n",
       "    </tr>\n",
       "    <tr>\n",
       "      <th>min</th>\n",
       "      <td>17829.000000</td>\n",
       "      <td>9465.000000</td>\n",
       "      <td>46.763889</td>\n",
       "      <td>0.406944</td>\n",
       "      <td>51.847535</td>\n",
       "      <td>5.121528</td>\n",
       "      <td>991.423611</td>\n",
       "    </tr>\n",
       "    <tr>\n",
       "      <th>25%</th>\n",
       "      <td>19260.500000</td>\n",
       "      <td>10238.000000</td>\n",
       "      <td>163.586806</td>\n",
       "      <td>0.718056</td>\n",
       "      <td>70.866319</td>\n",
       "      <td>17.034722</td>\n",
       "      <td>995.069444</td>\n",
       "    </tr>\n",
       "    <tr>\n",
       "      <th>50%</th>\n",
       "      <td>25385.500000</td>\n",
       "      <td>13116.000000</td>\n",
       "      <td>213.312500</td>\n",
       "      <td>0.912153</td>\n",
       "      <td>77.697917</td>\n",
       "      <td>22.399306</td>\n",
       "      <td>996.909722</td>\n",
       "    </tr>\n",
       "    <tr>\n",
       "      <th>75%</th>\n",
       "      <td>29821.750000</td>\n",
       "      <td>15224.000000</td>\n",
       "      <td>264.736111</td>\n",
       "      <td>1.065972</td>\n",
       "      <td>84.015312</td>\n",
       "      <td>26.906250</td>\n",
       "      <td>1000.312500</td>\n",
       "    </tr>\n",
       "    <tr>\n",
       "      <th>max</th>\n",
       "      <td>31964.000000</td>\n",
       "      <td>16435.000000</td>\n",
       "      <td>301.527778</td>\n",
       "      <td>1.607292</td>\n",
       "      <td>96.711076</td>\n",
       "      <td>29.121528</td>\n",
       "      <td>1005.902778</td>\n",
       "    </tr>\n",
       "  </tbody>\n",
       "</table>\n",
       "</div>"
      ],
      "text/plain": [
       "                 DF             D         GHI  Wind Speed  Relative Humidity  \\\n",
       "count     48.000000     49.000000   49.000000   49.000000          49.000000   \n",
       "mean   24638.145833  12751.693878  212.105300    0.926481          77.130249   \n",
       "std     5268.892394   2499.488691   66.021353    0.285820           9.331572   \n",
       "min    17829.000000   9465.000000   46.763889    0.406944          51.847535   \n",
       "25%    19260.500000  10238.000000  163.586806    0.718056          70.866319   \n",
       "50%    25385.500000  13116.000000  213.312500    0.912153          77.697917   \n",
       "75%    29821.750000  15224.000000  264.736111    1.065972          84.015312   \n",
       "max    31964.000000  16435.000000  301.527778    1.607292          96.711076   \n",
       "\n",
       "       Temperature     Pressure  \n",
       "count    49.000000    49.000000  \n",
       "mean     21.705577   997.850907  \n",
       "std       6.060427     3.911272  \n",
       "min       5.121528   991.423611  \n",
       "25%      17.034722   995.069444  \n",
       "50%      22.399306   996.909722  \n",
       "75%      26.906250  1000.312500  \n",
       "max      29.121528  1005.902778  "
      ]
     },
     "execution_count": 48,
     "metadata": {},
     "output_type": "execute_result"
    }
   ],
   "source": [
    "df0 = dfse[dfse['D']<50000]\n",
    "df0.describe()"
   ]
  },
  {
   "cell_type": "code",
   "execution_count": 146,
   "id": "08ff0b62",
   "metadata": {},
   "outputs": [
    {
     "data": {
      "text/html": [
       "<div>\n",
       "<style scoped>\n",
       "    .dataframe tbody tr th:only-of-type {\n",
       "        vertical-align: middle;\n",
       "    }\n",
       "\n",
       "    .dataframe tbody tr th {\n",
       "        vertical-align: top;\n",
       "    }\n",
       "\n",
       "    .dataframe thead th {\n",
       "        text-align: right;\n",
       "    }\n",
       "</style>\n",
       "<table border=\"1\" class=\"dataframe\">\n",
       "  <thead>\n",
       "    <tr style=\"text-align: right;\">\n",
       "      <th></th>\n",
       "      <th>Local date</th>\n",
       "      <th>DF</th>\n",
       "      <th>D</th>\n",
       "      <th>GHI</th>\n",
       "      <th>Wind Speed</th>\n",
       "      <th>Relative Humidity</th>\n",
       "      <th>Temperature</th>\n",
       "      <th>Pressure</th>\n",
       "    </tr>\n",
       "  </thead>\n",
       "  <tbody>\n",
       "  </tbody>\n",
       "</table>\n",
       "</div>"
      ],
      "text/plain": [
       "Empty DataFrame\n",
       "Columns: [Local date, DF, D, GHI, Wind Speed, Relative Humidity, Temperature, Pressure]\n",
       "Index: []"
      ]
     },
     "execution_count": 146,
     "metadata": {},
     "output_type": "execute_result"
    }
   ],
   "source": [
    "new_dfse=dfse[~(dfse['D']<50000)]\n",
    "new_dfse[new_dfse['D']<200000]"
   ]
  },
  {
   "cell_type": "code",
   "execution_count": 147,
   "id": "4baaf380",
   "metadata": {},
   "outputs": [
    {
     "data": {
      "text/plain": [
       "Local date           0\n",
       "DF                   2\n",
       "D                    0\n",
       "GHI                  0\n",
       "Wind Speed           0\n",
       "Relative Humidity    0\n",
       "Temperature          0\n",
       "Pressure             0\n",
       "dtype: int64"
      ]
     },
     "execution_count": 147,
     "metadata": {},
     "output_type": "execute_result"
    }
   ],
   "source": [
    "new_dfse.isnull().sum()"
   ]
  },
  {
   "cell_type": "code",
   "execution_count": null,
   "id": "afc62631",
   "metadata": {},
   "outputs": [],
   "source": [
    "sns.pairplot(new_dfse.drop(columns = 'DF'))"
   ]
  },
  {
   "cell_type": "markdown",
   "id": "63a2ee14",
   "metadata": {},
   "source": [
    "### SE - Summer Calculations"
   ]
  },
  {
   "cell_type": "code",
   "execution_count": 148,
   "id": "2ae45992",
   "metadata": {},
   "outputs": [
    {
     "name": "stdout",
     "output_type": "stream",
     "text": [
      "(529, 8)\n"
     ]
    },
    {
     "data": {
      "text/html": [
       "<div>\n",
       "<style scoped>\n",
       "    .dataframe tbody tr th:only-of-type {\n",
       "        vertical-align: middle;\n",
       "    }\n",
       "\n",
       "    .dataframe tbody tr th {\n",
       "        vertical-align: top;\n",
       "    }\n",
       "\n",
       "    .dataframe thead th {\n",
       "        text-align: right;\n",
       "    }\n",
       "</style>\n",
       "<table border=\"1\" class=\"dataframe\">\n",
       "  <thead>\n",
       "    <tr style=\"text-align: right;\">\n",
       "      <th></th>\n",
       "      <th>GHI</th>\n",
       "      <th>Wind Speed</th>\n",
       "      <th>Relative Humidity</th>\n",
       "      <th>Temperature</th>\n",
       "      <th>Pressure</th>\n",
       "    </tr>\n",
       "  </thead>\n",
       "  <tbody>\n",
       "    <tr>\n",
       "      <th>0</th>\n",
       "      <td>272.243056</td>\n",
       "      <td>1.179167</td>\n",
       "      <td>85.007604</td>\n",
       "      <td>25.416667</td>\n",
       "      <td>998.020833</td>\n",
       "    </tr>\n",
       "    <tr>\n",
       "      <th>1</th>\n",
       "      <td>219.875000</td>\n",
       "      <td>1.163194</td>\n",
       "      <td>89.075903</td>\n",
       "      <td>24.861111</td>\n",
       "      <td>996.805556</td>\n",
       "    </tr>\n",
       "    <tr>\n",
       "      <th>2</th>\n",
       "      <td>235.541667</td>\n",
       "      <td>1.104514</td>\n",
       "      <td>87.619514</td>\n",
       "      <td>25.034722</td>\n",
       "      <td>996.562500</td>\n",
       "    </tr>\n",
       "    <tr>\n",
       "      <th>3</th>\n",
       "      <td>232.593750</td>\n",
       "      <td>0.942361</td>\n",
       "      <td>92.207431</td>\n",
       "      <td>24.329861</td>\n",
       "      <td>998.472222</td>\n",
       "    </tr>\n",
       "    <tr>\n",
       "      <th>4</th>\n",
       "      <td>188.934028</td>\n",
       "      <td>0.695833</td>\n",
       "      <td>90.758611</td>\n",
       "      <td>23.732639</td>\n",
       "      <td>999.791667</td>\n",
       "    </tr>\n",
       "  </tbody>\n",
       "</table>\n",
       "</div>"
      ],
      "text/plain": [
       "          GHI  Wind Speed  Relative Humidity  Temperature    Pressure\n",
       "0  272.243056    1.179167          85.007604    25.416667  998.020833\n",
       "1  219.875000    1.163194          89.075903    24.861111  996.805556\n",
       "2  235.541667    1.104514          87.619514    25.034722  996.562500\n",
       "3  232.593750    0.942361          92.207431    24.329861  998.472222\n",
       "4  188.934028    0.695833          90.758611    23.732639  999.791667"
      ]
     },
     "execution_count": 148,
     "metadata": {},
     "output_type": "execute_result"
    }
   ],
   "source": [
    "dfse_summer = season_extractor(new_dfse, 6, 21, 9, 22)\n",
    "print(dfse_summer.shape)\n",
    "se_summer_variables = dfse_summer.drop(['Local date','DF','D'], axis = 'columns')\n",
    "se_summer_target = dfse_summer['D']\n",
    "se_summer_variables.head()"
   ]
  },
  {
   "cell_type": "code",
   "execution_count": 149,
   "id": "d62099c5",
   "metadata": {},
   "outputs": [
    {
     "data": {
      "text/plain": [
       "0.7952723767707475"
      ]
     },
     "execution_count": 149,
     "metadata": {},
     "output_type": "execute_result"
    }
   ],
   "source": [
    "train_model(se_summer_variables,se_summer_target,model_lr)"
   ]
  },
  {
   "cell_type": "code",
   "execution_count": 150,
   "id": "c3e05fb8",
   "metadata": {},
   "outputs": [
    {
     "data": {
      "text/plain": [
       "0.8212970382125557"
      ]
     },
     "execution_count": 150,
     "metadata": {},
     "output_type": "execute_result"
    }
   ],
   "source": [
    "se_summer_scores = get_scores(se_summer_variables, se_summer_target)\n",
    "se_summer_scores"
   ]
  },
  {
   "cell_type": "code",
   "execution_count": 151,
   "id": "07a4b21f",
   "metadata": {},
   "outputs": [
    {
     "data": {
      "text/plain": [
       "0.8203661138644565"
      ]
     },
     "execution_count": 151,
     "metadata": {},
     "output_type": "execute_result"
    }
   ],
   "source": [
    "wind_temp_calculator(se_summer_variables, se_summer_target)"
   ]
  },
  {
   "cell_type": "code",
   "execution_count": 152,
   "id": "60066b5e",
   "metadata": {},
   "outputs": [
    {
     "data": {
      "text/plain": [
       "0.8207336482615935"
      ]
     },
     "execution_count": 152,
     "metadata": {},
     "output_type": "execute_result"
    }
   ],
   "source": [
    "temp_calculator(se_summer_variables, se_summer_target)"
   ]
  },
  {
   "cell_type": "code",
   "execution_count": 153,
   "id": "2c04db0f",
   "metadata": {},
   "outputs": [
    {
     "data": {
      "text/plain": [
       "0.35449173975823534"
      ]
     },
     "execution_count": 153,
     "metadata": {},
     "output_type": "execute_result"
    }
   ],
   "source": [
    "no_temp_calculator(se_summer_variables, se_summer_target)"
   ]
  },
  {
   "cell_type": "markdown",
   "id": "d3320f3b",
   "metadata": {},
   "source": [
    "### SE Winter Calculations "
   ]
  },
  {
   "cell_type": "code",
   "execution_count": 154,
   "id": "326eea7c",
   "metadata": {},
   "outputs": [
    {
     "name": "stdout",
     "output_type": "stream",
     "text": [
      "(457, 8)\n",
      "(457, 5) (457,)\n"
     ]
    }
   ],
   "source": [
    "dfse_winter = new_dfse[new_dfse['Local date'].apply(lambda x: x.month==1 or x.month==2 or x.month==3 or x.month==12)]\n",
    "dfse_winter = dfse_winter[dfse_winter['Local date'].apply(lambda x: x.day<=21 if x.month==3 else True)]\n",
    "dfse_winter = dfse_winter[dfse_winter['Local date'].apply(lambda x: x.day>=21 if x.month==12 else True)]\n",
    "print(dfse_winter.shape)\n",
    "se_winter_variables = dfse_winter.drop(['Local date','DF','D'], axis = 1)\n",
    "se_winter_target = dfse_winter['D']\n",
    "print(se_winter_variables.shape, se_winter_target.shape)"
   ]
  },
  {
   "cell_type": "code",
   "execution_count": 155,
   "id": "67ea910a",
   "metadata": {},
   "outputs": [
    {
     "data": {
      "text/plain": [
       "0.7591416541366603"
      ]
     },
     "execution_count": 155,
     "metadata": {},
     "output_type": "execute_result"
    }
   ],
   "source": [
    "train_model(se_winter_variables,se_winter_target,model_lr)"
   ]
  },
  {
   "cell_type": "code",
   "execution_count": 156,
   "id": "e0d2a958",
   "metadata": {},
   "outputs": [
    {
     "data": {
      "text/plain": [
       "0.74182660929265"
      ]
     },
     "execution_count": 156,
     "metadata": {},
     "output_type": "execute_result"
    }
   ],
   "source": [
    "se_winter_scores = get_scores(se_winter_variables, se_winter_target)\n",
    "se_winter_scores"
   ]
  },
  {
   "cell_type": "code",
   "execution_count": 157,
   "id": "6edfbde1",
   "metadata": {},
   "outputs": [
    {
     "data": {
      "text/plain": [
       "0.7458233202226108"
      ]
     },
     "execution_count": 157,
     "metadata": {},
     "output_type": "execute_result"
    }
   ],
   "source": [
    "wind_temp_calculator(se_winter_variables, se_winter_target)"
   ]
  },
  {
   "cell_type": "code",
   "execution_count": 158,
   "id": "4fd6666a",
   "metadata": {},
   "outputs": [
    {
     "data": {
      "text/plain": [
       "0.7453072431271939"
      ]
     },
     "execution_count": 158,
     "metadata": {},
     "output_type": "execute_result"
    }
   ],
   "source": [
    "temp_calculator(se_winter_variables, se_winter_target)"
   ]
  },
  {
   "cell_type": "code",
   "execution_count": 159,
   "id": "9ffcd7f0",
   "metadata": {},
   "outputs": [
    {
     "data": {
      "text/plain": [
       "0.6727907744791056"
      ]
     },
     "execution_count": 159,
     "metadata": {},
     "output_type": "execute_result"
    }
   ],
   "source": [
    "no_temp_calculator(se_winter_variables, se_winter_target)"
   ]
  },
  {
   "cell_type": "markdown",
   "id": "8c4a8147",
   "metadata": {},
   "source": [
    "### SE Spring Calculations"
   ]
  },
  {
   "cell_type": "code",
   "execution_count": 160,
   "id": "100a2383",
   "metadata": {},
   "outputs": [
    {
     "data": {
      "text/plain": [
       "(470, 8)"
      ]
     },
     "execution_count": 160,
     "metadata": {},
     "output_type": "execute_result"
    }
   ],
   "source": [
    "dfse_spring = season_extractor(new_dfse, 3, 20, 6, 21)\n",
    "dfse_spring.shape"
   ]
  },
  {
   "cell_type": "code",
   "execution_count": 161,
   "id": "1bd09a9a",
   "metadata": {},
   "outputs": [
    {
     "name": "stdout",
     "output_type": "stream",
     "text": [
      "(470, 5) (470,)\n"
     ]
    }
   ],
   "source": [
    "se_spring_variables = dfse_spring.drop(['Local date','DF','D'], axis = 1)\n",
    "se_spring_target = dfse_spring['D']\n",
    "print(se_spring_variables.shape, se_spring_target.shape)"
   ]
  },
  {
   "cell_type": "code",
   "execution_count": 162,
   "id": "4d8efc93",
   "metadata": {},
   "outputs": [
    {
     "data": {
      "text/plain": [
       "0.6873201559661711"
      ]
     },
     "execution_count": 162,
     "metadata": {},
     "output_type": "execute_result"
    }
   ],
   "source": [
    "train_model(se_spring_variables,se_spring_target,model_lr)"
   ]
  },
  {
   "cell_type": "code",
   "execution_count": 163,
   "id": "62f539cc",
   "metadata": {},
   "outputs": [
    {
     "data": {
      "text/plain": [
       "0.754646124220218"
      ]
     },
     "execution_count": 163,
     "metadata": {},
     "output_type": "execute_result"
    }
   ],
   "source": [
    "se_spring_scores = get_scores(se_spring_variables, se_spring_target)\n",
    "se_spring_scores"
   ]
  },
  {
   "cell_type": "code",
   "execution_count": 164,
   "id": "7dbb3023",
   "metadata": {},
   "outputs": [
    {
     "data": {
      "text/plain": [
       "0.7326784424954031"
      ]
     },
     "execution_count": 164,
     "metadata": {},
     "output_type": "execute_result"
    }
   ],
   "source": [
    "wind_temp_calculator(se_spring_variables, se_spring_target)"
   ]
  },
  {
   "cell_type": "code",
   "execution_count": 165,
   "id": "e79618b7",
   "metadata": {},
   "outputs": [
    {
     "data": {
      "text/plain": [
       "0.7336818769498674"
      ]
     },
     "execution_count": 165,
     "metadata": {},
     "output_type": "execute_result"
    }
   ],
   "source": [
    "temp_calculator(se_spring_variables, se_spring_target)"
   ]
  },
  {
   "cell_type": "code",
   "execution_count": 166,
   "id": "16a96837",
   "metadata": {},
   "outputs": [
    {
     "data": {
      "text/plain": [
       "0.05632619881897627"
      ]
     },
     "execution_count": 166,
     "metadata": {},
     "output_type": "execute_result"
    }
   ],
   "source": [
    "no_temp_calculator(se_spring_variables, se_spring_target)"
   ]
  },
  {
   "cell_type": "markdown",
   "id": "38454826",
   "metadata": {},
   "source": [
    "### SE Fall Calculations"
   ]
  },
  {
   "cell_type": "code",
   "execution_count": 167,
   "id": "bed30449",
   "metadata": {},
   "outputs": [
    {
     "data": {
      "text/plain": [
       "(531, 8)"
      ]
     },
     "execution_count": 167,
     "metadata": {},
     "output_type": "execute_result"
    }
   ],
   "source": [
    "dfse_fall = season_extractor(new_dfse, 9, 22, 12, 21)\n",
    "dfse_fall.shape"
   ]
  },
  {
   "cell_type": "code",
   "execution_count": 168,
   "id": "3995af69",
   "metadata": {},
   "outputs": [
    {
     "name": "stdout",
     "output_type": "stream",
     "text": [
      "(531, 5) (531,)\n"
     ]
    }
   ],
   "source": [
    "se_fall_variables = dfse_fall.drop(['Local date','DF','D'], axis = 1)\n",
    "se_fall_target = dfse_fall['D']\n",
    "print(se_fall_variables.shape, se_fall_target.shape)"
   ]
  },
  {
   "cell_type": "code",
   "execution_count": 169,
   "id": "7370ebdd",
   "metadata": {},
   "outputs": [
    {
     "data": {
      "text/plain": [
       "0.013239218121379293"
      ]
     },
     "execution_count": 169,
     "metadata": {},
     "output_type": "execute_result"
    }
   ],
   "source": [
    "train_model(se_fall_variables,se_fall_target,model_lr)"
   ]
  },
  {
   "cell_type": "code",
   "execution_count": 170,
   "id": "aeee7136",
   "metadata": {},
   "outputs": [
    {
     "data": {
      "text/plain": [
       "-0.0254180545809799"
      ]
     },
     "execution_count": 170,
     "metadata": {},
     "output_type": "execute_result"
    }
   ],
   "source": [
    "se_fall_scores = get_scores(se_fall_variables, se_fall_target)\n",
    "se_fall_scores"
   ]
  },
  {
   "cell_type": "code",
   "execution_count": 171,
   "id": "6869a45f",
   "metadata": {},
   "outputs": [
    {
     "data": {
      "text/plain": [
       "0.008034926120391472"
      ]
     },
     "execution_count": 171,
     "metadata": {},
     "output_type": "execute_result"
    }
   ],
   "source": [
    "wind_temp_calculator(se_fall_variables, se_fall_target)"
   ]
  },
  {
   "cell_type": "code",
   "execution_count": 172,
   "id": "86f45a88",
   "metadata": {},
   "outputs": [
    {
     "data": {
      "text/plain": [
       "-0.005363319773057373"
      ]
     },
     "execution_count": 172,
     "metadata": {},
     "output_type": "execute_result"
    }
   ],
   "source": [
    "temp_calculator(se_fall_variables, se_fall_target)"
   ]
  },
  {
   "cell_type": "code",
   "execution_count": 173,
   "id": "a7de4159",
   "metadata": {},
   "outputs": [
    {
     "data": {
      "text/plain": [
       "-0.007333135969577187"
      ]
     },
     "execution_count": 173,
     "metadata": {},
     "output_type": "execute_result"
    }
   ],
   "source": [
    "no_temp_calculator(se_fall_variables, se_fall_target)"
   ]
  },
  {
   "cell_type": "markdown",
   "id": "0d9959bc",
   "metadata": {},
   "source": [
    "### Saving Model "
   ]
  },
  {
   "cell_type": "code",
   "execution_count": 244,
   "id": "d5ff2aaa",
   "metadata": {},
   "outputs": [],
   "source": [
    "import pickle\n",
    "with open ('NESE Model.pickle','wb') as f:\n",
    "    pickle.dump(ridge_reg,f)"
   ]
  }
 ],
 "metadata": {
  "kernelspec": {
   "display_name": "Python 3 (ipykernel)",
   "language": "python",
   "name": "python3"
  },
  "language_info": {
   "codemirror_mode": {
    "name": "ipython",
    "version": 3
   },
   "file_extension": ".py",
   "mimetype": "text/x-python",
   "name": "python",
   "nbconvert_exporter": "python",
   "pygments_lexer": "ipython3",
   "version": "3.9.12"
  }
 },
 "nbformat": 4,
 "nbformat_minor": 5
}
